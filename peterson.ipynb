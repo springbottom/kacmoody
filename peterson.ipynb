{
 "cells": [
  {
   "cell_type": "code",
   "execution_count": 379,
   "metadata": {},
   "outputs": [],
   "source": [
    "def sub_parts(c):\n",
    "    \"\"\"\n",
    "    For a list c = [1,2,0], return\n",
    "                  [[0,0,0],\n",
    "                   [1,0,0],\n",
    "                   [0,1,0],\n",
    "                   [1,1,0],\n",
    "                   [0,2,0]]\n",
    "    \"\"\"\n",
    "    if len(c) == 1:\n",
    "        return [[x] for x in range(c[0])]\n",
    "    \n",
    "    if c[0] == 0:\n",
    "        return [[0] + y for y in sub_parts(c[1:])]\n",
    "    \n",
    "    d = sub_parts(c[1:])\n",
    "    g = sub_parts([c[0]-1]+c[1:])+[[c[0]]+y for y in sub_parts(c[1:])]+[[c[0]-1]+c[1:]]\n",
    "    return g\n",
    "    \n",
    "def common_divisors(l):\n",
    "    l = [a for a in l if a != 0]\n",
    "    d = [set(e.divisors()) for e in l]\n",
    "    f = d[0]\n",
    "    for i in d[1:]:\n",
    "        f = f.intersection(i)\n",
    "    return f\n",
    "    \n",
    "def all_lists(l,s):\n",
    "    #return all lists with length l and sum s\n",
    "    if l == 1:\n",
    "        return [[s]]\n",
    "    to_return = []\n",
    "    for i in range(s+1):\n",
    "        to_return = to_return + [[i]+x for x in all_lists(l-1,s-i)]\n",
    "    return to_return\n",
    "\n",
    "def rm(self,depth=5):\n",
    "    R = self.root_system()\n",
    "    L = R.root_lattice()\n",
    "    S = L.simple_roots()\n",
    "    self.multiplicities = {} # Could imagine checking if it is defined first, so as\n",
    "                             # not to waste time calculating things that have\n",
    "                             # already been calculated.\n",
    "    D = self.symmetrized_matrix().dense_matrix()\n",
    "    \n",
    "    def c(beta):\n",
    "        dense = beta.dense_coefficient_list()\n",
    "        f = common_divisors(dense)\n",
    "        to_return = 0\n",
    "        for e in f:\n",
    "            if beta/e in self.multiplicities:\n",
    "                to_return = to_return + (float(1)/float(e))*self.multiplicities[beta/e]\n",
    "        return to_return\n",
    "    \n",
    "    def c_to_root(coeff):\n",
    "        #IT IS 0 INDEXED FOR INFINITE, 1 INDEXED FOR FINITE\n",
    "        #THIS IS A BUG IN SAGE\n",
    "        #return sum([S[x+1]*coeff[x] for x in range(len(coeff))])#finite\n",
    "        return sum([S[int(x)]*int(coeff[x]) for x in range(len(coeff))])#finite\n",
    "    \n",
    "    #Actually, it is SO much easier to induct on height...\n",
    "    all_combs = []\n",
    "    for l in [all_lists(len(S),x) for x in range(1,depth+1)]:\n",
    "        all_combs = all_combs + l\n",
    "    roots = [c_to_root(comb) for comb in all_combs]\n",
    "    \n",
    "    \n",
    "    def two_rho(beta):\n",
    "        return -2*sum(beta.dense_coefficient_list())\n",
    "    \n",
    "    \n",
    "    for r in roots:\n",
    "        rd = r.dense_coefficient_list()\n",
    "        if sum(rd) == 1:\n",
    "            self.multiplicities[r] = 1\n",
    "        else:\n",
    "            a_o = 0\n",
    "            for bp in [c_to_root(l) for l in sub_parts(rd) if sum(l) != 0]:\n",
    "                bpp = r-bp\n",
    "                bpd = bp.dense_coefficient_list()\n",
    "                bppd = bpp.dense_coefficient_list()\n",
    "                a_o = a_o + vector(bppd)*D*vector(bpd)*c(bp)*c(bpp)\n",
    "            b = vector((r).dense_coefficient_list())*D*vector((r).dense_coefficient_list()) + two_rho(r)\n",
    "            \n",
    "            c_o = 0\n",
    "            for n in common_divisors(rd):\n",
    "                if n != 1:\n",
    "                    c_o = c_o + float(1)/float(n)*self.multiplicities[c_to_root(list(vector(rd)/n))]\n",
    "            \n",
    "\n",
    "            if a_o == 0 and b == 0:\n",
    "                self.multiplicities[r] = 0\n",
    "                continue\n",
    "            self.multiplicities[r] = a_o/b-c_o\n",
    "    \n",
    "    return self.multiplicities\n",
    "        \n",
    "CartanMatrix.rm = rm\n",
    "    "
   ]
  },
  {
   "cell_type": "code",
   "execution_count": 289,
   "metadata": {},
   "outputs": [],
   "source": [
    "R = CartanMatrix([\"E\",8]) #SL3`"
   ]
  },
  {
   "cell_type": "code",
   "execution_count": 291,
   "metadata": {},
   "outputs": [],
   "source": [
    "R = CartanMatrix([[2,-3],[-3,2]])"
   ]
  },
  {
   "cell_type": "code",
   "execution_count": 381,
   "metadata": {
    "scrolled": true
   },
   "outputs": [],
   "source": [
    "answer = R.rm(depth=25)"
   ]
  },
  {
   "cell_type": "code",
   "execution_count": 383,
   "metadata": {},
   "outputs": [
    {
     "name": "stdout",
     "output_type": "stream",
     "text": [
      "([1, 1], 1.0)\n",
      "([2, 2], 1.0)\n",
      "([3, 2], 2.0)\n",
      "([3, 3], 3.0)\n",
      "([4, 3], 4.0)\n",
      "([4, 4], 6.0)\n",
      "([5, 4], 9.0)\n",
      "([6, 4], 9.0)\n",
      "([5, 5], 16.0)\n",
      "([6, 5], 23.0)\n",
      "([7, 5], 27.0)\n",
      "([6, 6], 39.0)\n",
      "([7, 6], 60.0)\n",
      "([8, 6], 73.0)\n",
      "([9, 6], 80.0)\n",
      "([7, 7], 107.0)\n",
      "([8, 7], 162.0)\n",
      "([9, 7], 211.0)\n",
      "([10, 7], 240.0)\n",
      "([8, 8], 288.0)\n",
      "([9, 8], 449.0)\n"
     ]
    }
   ],
   "source": [
    "to_list = [[1,1],[2,2],[3,2],[3,3],[4,3],[4,4],[5,4],[6,4],[5,5],[6,5],[7,5],[6,6],[7,6],[8,6],[9,6],\n",
    "          [7,7],[8,7],[9,7],[10,7],[8,8],[9,8]]\n",
    "for x in to_list:\n",
    "    for y in answer:\n",
    "        if y.dense_coefficient_list() == x:\n",
    "            print(x,answer[y])"
   ]
  }
 ],
 "metadata": {
  "kernelspec": {
   "display_name": "SageMath 8.6",
   "language": "",
   "name": "sagemath"
  },
  "language_info": {
   "codemirror_mode": {
    "name": "ipython",
    "version": 2
   },
   "file_extension": ".py",
   "mimetype": "text/x-python",
   "name": "python",
   "nbconvert_exporter": "python",
   "pygments_lexer": "ipython2",
   "version": "2.7.15"
  }
 },
 "nbformat": 4,
 "nbformat_minor": 2
}
