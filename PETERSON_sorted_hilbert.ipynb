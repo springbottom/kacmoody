{
 "cells": [
  {
   "cell_type": "code",
   "execution_count": 97,
   "metadata": {},
   "outputs": [],
   "source": [
    "def sub_parts(c):\n",
    "    \"\"\"\n",
    "    For a list c = [1,2,0], return\n",
    "                  [[0,0,0],\n",
    "                   [1,0,0],\n",
    "                   [0,1,0],\n",
    "                   [1,1,0],\n",
    "                   [0,2,0],\n",
    "            NEW:   c]\n",
    "    \"\"\"\n",
    "    if len(c) == 1:\n",
    "        return [[x] for x in range(c[0])]\n",
    "\n",
    "    if c[0] == 0:\n",
    "        return [[0] + y for y in sub_parts(c[1:])]\n",
    "\n",
    "    d = sub_parts(c[1:])\n",
    "    g = sub_parts([c[0]-1]+c[1:])+[[c[0]]+y for y in sub_parts(c[1:])]+[[c[0]-1]+c[1:]]\n",
    "    return g+[c]"
   ]
  },
  {
   "cell_type": "code",
   "execution_count": 98,
   "metadata": {},
   "outputs": [],
   "source": [
    "def exceptional(n):\n",
    "    # Returns the exceptional Cartan matrix E_n, for n >= 5\n",
    "    if n < 5:\n",
    "        raise ValueError(\"Matrix E_n only makes sense for n >= 5\")\n",
    "    M = []\n",
    "    for i in range(n):\n",
    "        row = []\n",
    "        for j in range(n):\n",
    "            if i == j:\n",
    "                row.append(2)\n",
    "            elif (i == j + 1) or (j == i + 1):\n",
    "                row.append(-1)\n",
    "            elif ((i == n - 1) and (j == 2)) or ((j == n - 1) and (i == 2)):\n",
    "                row.append(-1)\n",
    "            else:\n",
    "                row.append(0)\n",
    "        M.append(row)\n",
    "    M[n-1][n-2] = 0\n",
    "    M[n-2][n-1] = 0\n",
    "    return CartanMatrix(M)"
   ]
  },
  {
   "cell_type": "code",
   "execution_count": 102,
   "metadata": {},
   "outputs": [],
   "source": [
    "class root(tuple):\n",
    "    \"\"\"\n",
    "    The class for roots of a Kac-Moody algebra.\n",
    "    \"\"\"\n",
    "    def __init__(self, list_form):\n",
    "        self.list_form    = list(list_form)\n",
    "        self.vector_form  = vector(list_form)\n",
    "        self.tuple_form   = tuple(list_form)\n",
    "        self.height       = sum(self.list_form)\n",
    "        #self.coding       = prime_code(list_form)\n",
    "    def __str__(self):\n",
    "        return 'root'+str(self.list_form)\n",
    "    def __repr__(self):\n",
    "        return 'root'+str(self.list_form)\n",
    "    #def __eq__(left, right):\n",
    "    #    return left.coding == right.coding\n",
    "    def __le__(left,right):\n",
    "        return all(l <= r for l, r in zip(left.list_form, right.list_form))\n",
    "    def __lt__(left,right):\n",
    "        return all(l <= r for l, r in zip(left.list_form, right.list_form)) and not left == right\n",
    "#     def height(self):\n",
    "#         return sum(self.list_form)\n",
    "#     def set_multiplicity(self, kma, m):\n",
    "#         kma.multiplicities[self.coding] = m\n",
    "#     def multiplicity(self, kma):\n",
    "#         return kma.multiplicities[self.coding]\n",
    "#     def set_c(self, kma, c):\n",
    "#         kma.cs[self.coding] = c\n",
    "#     def c(self, kma):\n",
    "#         return kma.cs[self.coding] # REplace\n",
    "    def __mul__(self,other):\n",
    "        return self.vector_form * other\n",
    "    def __rmul__(self,other):\n",
    "        return other*self.vector_form\n",
    "    def __sub__(self,other):\n",
    "        return self.vector_form - other\n",
    "    def __rsub__(self,other):\n",
    "        return other - self.vector_form\n",
    "    def __div__(self,other):\n",
    "        return self.vector_form/other"
   ]
  },
  {
   "cell_type": "code",
   "execution_count": 257,
   "metadata": {},
   "outputs": [],
   "source": [
    "class KacMoodyAlgebra():\n",
    "    \"\"\"\n",
    "    The class for CartanMatrices decorated with more information.\n",
    "    \"\"\"\n",
    "    def __init__(self, matrix, height=30):\n",
    "        #Setup\n",
    "        self.matrix = CartanMatrix(matrix)\n",
    "        self.height = height\n",
    "        self.dim = self.matrix.nrows()\n",
    "        self.simple_roots = [root(tuple([int(a == b) for a in range(self.dim)])) for b in range(self.dim)]\n",
    "        #self.roots = AVLTree()\n",
    "        self.roots = set(self.simple_roots)\n",
    "        self.multiplicities = dict()\n",
    "        self.cs = dict()\n",
    "        self.zero_root = root(tuple([0] * self.dim))\n",
    "        \n",
    "        \n",
    "        #Calculation to height\n",
    "        for s in self.simple_roots:\n",
    "            #s.set_multiplicity(self, 1)\n",
    "            #s.set_c(self, 1)\n",
    "            self.multiplicities[s] = 1\n",
    "            self.cs[s] = 1\n",
    "        self.pingpong(self.simple_roots) # Generate real roots\n",
    "        print('simple calculation done')\n",
    "        \n",
    "        #Now, figure out the imag\n",
    "        self.imag_basis = [root(list(-x)) for x in Cone(matrix).dual().Hilbert_basis()]\n",
    "        self.graded_ascent(height)\n",
    "        \n",
    "        \n",
    "\n",
    "    def B(self, a, b):\n",
    "        \"\"\"\n",
    "        Returns the bilinear product induced by self - does this work for nonsymmetric?\n",
    "        \"\"\"\n",
    "        return a * self.matrix * b\n",
    "\n",
    "    def weyl(self, r, s):\n",
    "        \"\"\"\n",
    "        Acts the Weyl group representation of the simple root s on the root r r\n",
    "        \"\"\"\n",
    "        return root(r - self.B(r, s) * s)\n",
    "\n",
    "    def pingpong(self, generators):\n",
    "        \"\"\"\n",
    "        Adjoin all the roots, that can be obtained\n",
    "        by acting the Weyl group on the generators, up to height\n",
    "        \"\"\"\n",
    "        #self.roots.insert_list(generators)\n",
    "        for g in generators:\n",
    "            to_pingpong = [g]\n",
    "            #mult = g.multiplicity(self)\n",
    "            mult = self.multiplicities[g]\n",
    "            c    = self.cs[g]\n",
    "            while len(to_pingpong) != 0:\n",
    "                next_root    = to_pingpong.pop()\n",
    "                ponged       = [self.weyl(next_root, s) for s in self.simple_roots]\n",
    "                qonged       = [p for p in ponged if p.height <= self.height and self.zero_root <= p]\n",
    "                #below is test for f.d. case\n",
    "                #qonged       = [p for p in ponged if p.height() <= self.height and not p in self.roots]\n",
    "                #to_pingpong += qonged\n",
    "                for p in qonged:\n",
    "                    if p not in self.roots:\n",
    "                        to_pingpong.append(p)\n",
    "                        #p.set_multiplicity(self, mult)\n",
    "                        self.multiplicities[p] = mult\n",
    "                        self.cs[p] = c\n",
    "                        self.roots.add(p)\n",
    "                    \n",
    "    def peterson(self,r):\n",
    "        #recurse\n",
    "        pass\n",
    "    \n",
    "    def graded_ascent(self,height):\n",
    "        \"\"\"\n",
    "        for now; do something naive; if we are summing to height\n",
    "        \"\"\"\n",
    "        _temp = sub_parts([floor(height/r.height) for r in self.imag_basis])[1:]\n",
    "        _toloop = []\n",
    "        for x in _temp:\n",
    "            _temp2 = sum([self.imag_basis[i]*x[i] for i in range(len(x))])\n",
    "            if sum(_temp2) <= height and root(list(_temp2)) not in _toloop:\n",
    "                _toloop.append(root(list(_temp2)))\n",
    "        _toloop = sorted(_toloop,key=lambda r: r.height)\n",
    "\n",
    "        for r in _toloop:\n",
    "            \"\"\"\n",
    "            Theres a subtelty here; we only store roots with mult > 0; but\n",
    "            there are 'pseudo-roots' which have mult = 0 but c > 0 (multiples of real roots)\n",
    "            \n",
    "            For now; we deal with this in a slightly hackish way\n",
    "            \"\"\"\n",
    "            \n",
    "            #First, pick out all the roots which are less than the root of interest\n",
    "            _tosum = [s for s in self.roots if s < r]\n",
    "            #print(len(_tosum))\n",
    "            _temp = 0\n",
    "            dealt_with = []\n",
    "            \n",
    "            for s_i in range(len(_tosum)):\n",
    "                \n",
    "                #Check if we have been dealt with\n",
    "                if s_i in dealt_with:\n",
    "                    #print('got dealt with',_tosum[s_i])\n",
    "                    continue\n",
    "                \n",
    "                #First, find the base root associated\n",
    "                s = _tosum[s_i]\n",
    "                s = root(tuple(s/divisors(gcd(s.list_form))[-1]))\n",
    "                \n",
    "                for n in range(1,floor(r.height/s.height)+1):\n",
    "                    #Now, scale the base root\n",
    "                    _s = root(tuple(n*s))\n",
    "                    \n",
    "                    #Check if this scaled version is contained elsewhere\n",
    "                    if _s in _tosum and _s != _tosum[s_i]:\n",
    "                        #EXCEPT IN THE SPECIAL CASE THEY ARE ALL ON THE SAME LINE?!?!?\n",
    "                        #if _s in [root(list(r/n)) for n in divisors(gcd(r.list_form))]:\n",
    "                        #    continue\n",
    "                        #Actually, ^that is not an exception\n",
    "                        dealt_with.append(_tosum.index(_s))\n",
    "                        #print('wild',n,s,_s,s_i,_tosum.index(_s))\n",
    "                        #print('what is going on',_tosum[383])\n",
    "                    \n",
    "                    #Now, need to check that the complement is a pseudoroot/root\n",
    "                    _poss = [(root(tuple((r-_s)/m)),m) for m in divisors(gcd(_s.list_form))]\n",
    "                    for _pt in _poss:\n",
    "                        _p = _pt[0]\n",
    "                        if _p in self.roots:\n",
    "                            #The complement, divided by m, is a root; so its a pseudoroot\n",
    "                            _tempc = 0; _tempc2 = 0;\n",
    "                            for o in divisors(gcd(_s.list_form)):\n",
    "                                if root(tuple(_s/o)) in self.roots:\n",
    "                                    #print('huh')\n",
    "                                    _tempc = _tempc + self.multiplicities[root(tuple(_s/o))]/o\n",
    "                            for o in divisors(gcd(list(r-_s))):\n",
    "                                if root(tuple((r-_s)/o)) in self.roots:\n",
    "                                    #print('wuh')\n",
    "                                    _tempc2 = _tempc2 + self.multiplicities[root(tuple((r-_s)/o))]/o\n",
    "                            \n",
    "                            #if _tempc == 0 or _tempc2 == 0:\n",
    "                            #    print('huh')\n",
    "                            #_tempc = sum([self.multiplicities[root(tuple(_s/o))]/o for o in divisors(gcd(_s.list_form))])\n",
    "                            #_tempc2= sum([self.multiplicities[root(tuple(_p/o))]/o for o in divisors(gcd(_p.list_form))])/_pt[1]\n",
    "                            _temp = _temp + _tempc*_tempc2*self.B(_s,r-_s)\n",
    "                            #if s == root([2, 4, 6, 5, 4, 3, 2, 1, 0, 3]):\n",
    "                            #    print('yohoho',n)\n",
    "                            break\n",
    "            \n",
    "            self.cs[r] = _temp/(self.B(r,r) - 2*r.height)\n",
    "            #self.cs[r] = sum([self.cs[s]*self.cs[root(list(r-s))]*self.B(s,r-s) for s in _tosum])/(self.B(r,r) - 2*r.height)\n",
    "            self.multiplicities[r] = self.cs[r] - sum([self.multiplicities[root(tuple(r/n))]/n for n in divisors(gcd(r.list_form))[1:]])\n",
    "            self.roots.add(r)\n",
    "            self.pingpong([r])\n",
    "            print(r,r.height,self.B(r,r),self.multiplicities[r])\n",
    "        \n",
    "        \n",
    "        \n",
    "    "
   ]
  },
  {
   "cell_type": "code",
   "execution_count": 244,
   "metadata": {},
   "outputs": [
    {
     "name": "stdout",
     "output_type": "stream",
     "text": [
      "simple calculation done\n"
     ]
    },
    {
     "data": {
      "text/plain": [
       "3433"
      ]
     },
     "execution_count": 244,
     "metadata": {},
     "output_type": "execute_result"
    }
   ],
   "source": [
    "K = KacMoodyAlgebra(exceptional(10),height=80)\n",
    "len([r for r in K.roots if r.height <= 61])"
   ]
  },
  {
   "cell_type": "code",
   "execution_count": 251,
   "metadata": {},
   "outputs": [
    {
     "name": "stdout",
     "output_type": "stream",
     "text": [
      "simple calculation done\n",
      "240\n",
      "(root[2, 4, 6, 5, 4, 3, 2, 1, 0, 3], 30, 0, 8)\n",
      "481\n",
      "('yohoho', 1)\n",
      "(root[4, 8, 12, 10, 8, 6, 4, 2, 0, 6], 60, 0, 8)\n",
      "1789\n",
      "('yohoho', 1)\n",
      "('wild', 2, root[2, 4, 6, 5, 4, 3, 2, 1, 0, 3], root[4, 8, 12, 10, 8, 6, 4, 2, 0, 6], 201, 297)\n",
      "('yohoho', 2)\n",
      "('got dealt with', root[4, 8, 12, 10, 8, 6, 4, 2, 0, 6])\n",
      "(root[4, 8, 12, 10, 8, 6, 4, 2, 1, 6], 61, -2, 44)\n"
     ]
    },
    {
     "data": {
      "text/plain": [
       "<__main__.KacMoodyAlgebra instance at 0x21e458170>"
      ]
     },
     "execution_count": 251,
     "metadata": {},
     "output_type": "execute_result"
    }
   ],
   "source": [
    "KacMoodyAlgebra(exceptional(10),height=61)"
   ]
  },
  {
   "cell_type": "code",
   "execution_count": 256,
   "metadata": {},
   "outputs": [
    {
     "name": "stdout",
     "output_type": "stream",
     "text": [
      "simple calculation done\n",
      "240\n",
      "(root[2, 4, 6, 5, 4, 3, 2, 1, 0, 3], 30, 0, 8)\n",
      "481\n",
      "('yohoho', 1)\n",
      "(root[4, 8, 12, 10, 8, 6, 4, 2, 0, 6], 60, 0, 8)\n",
      "1789\n",
      "('wild', 1, root[2, 4, 6, 5, 4, 3, 2, 1, 0, 3], root[2, 4, 6, 5, 4, 3, 2, 1, 0, 3], 383, 642)\n",
      "('what is going on', root[4, 8, 12, 10, 8, 6, 4, 2, 0, 6])\n",
      "('yohoho', 1)\n",
      "('yohoho', 2)\n",
      "('got dealt with', root[2, 4, 6, 5, 4, 3, 2, 1, 0, 3])\n",
      "(root[4, 8, 12, 10, 8, 6, 4, 2, 1, 6], 61, -2, 44)\n",
      "6566\n",
      "('wild', 2, root[2, 4, 7, 6, 5, 4, 3, 2, 1, 3], root[4, 8, 14, 12, 10, 8, 6, 4, 2, 6], 199, 366)\n",
      "('what is going on', root[3, 6, 10, 7, 6, 4, 3, 2, 1, 5])\n",
      "('wild', 1, root[2, 4, 6, 5, 4, 3, 2, 2, 1, 3], root[2, 4, 6, 5, 4, 3, 2, 2, 1, 3], 329, 5005)\n",
      "('what is going on', root[3, 6, 10, 7, 6, 4, 3, 2, 1, 5])\n",
      "('got dealt with', root[4, 8, 14, 12, 10, 8, 6, 4, 2, 6])\n",
      "('wild', 2, root[2, 4, 6, 6, 5, 4, 3, 2, 1, 3], root[4, 8, 12, 12, 10, 8, 6, 4, 2, 6], 445, 1674)\n",
      "('what is going on', root[3, 6, 10, 7, 6, 4, 3, 2, 1, 5])\n",
      "('wild', 1, root[2, 4, 6, 5, 4, 4, 3, 2, 1, 3], root[2, 4, 6, 5, 4, 4, 3, 2, 1, 3], 838, 2378)\n",
      "('what is going on', root[3, 6, 10, 7, 6, 4, 3, 2, 1, 5])\n",
      "('wild', 1, root[2, 4, 6, 5, 4, 3, 2, 1, 0, 3], root[2, 4, 6, 5, 4, 3, 2, 1, 0, 3], 1477, 2480)\n",
      "('what is going on', root[3, 6, 10, 7, 6, 4, 3, 2, 1, 5])\n",
      "('yohoho', 1)\n",
      "('got dealt with', root[4, 8, 12, 12, 10, 8, 6, 4, 2, 6])\n",
      "('wild', 1, root[2, 4, 6, 5, 5, 4, 3, 2, 1, 3], root[2, 4, 6, 5, 5, 4, 3, 2, 1, 3], 1780, 4065)\n",
      "('what is going on', root[3, 6, 10, 7, 6, 4, 3, 2, 1, 5])\n",
      "('got dealt with', root[2, 4, 6, 5, 4, 4, 3, 2, 1, 3])\n",
      "('got dealt with', root[2, 4, 6, 5, 4, 3, 2, 1, 0, 3])\n",
      "('wild', 2, root[2, 4, 6, 5, 4, 3, 3, 2, 1, 3], root[4, 8, 12, 10, 8, 6, 6, 4, 2, 6], 2482, 6198)\n",
      "('what is going on', root[3, 6, 10, 7, 6, 4, 3, 2, 1, 5])\n",
      "('wild', 1, root[2, 4, 6, 5, 4, 3, 2, 1, 1, 3], root[2, 4, 6, 5, 4, 3, 2, 1, 1, 3], 2506, 6275)\n",
      "('what is going on', root[3, 6, 10, 7, 6, 4, 3, 2, 1, 5])\n",
      "('got dealt with', root[2, 4, 6, 5, 5, 4, 3, 2, 1, 3])\n",
      "('got dealt with', root[2, 4, 6, 5, 4, 3, 2, 2, 1, 3])\n",
      "('got dealt with', root[4, 8, 12, 10, 8, 6, 6, 4, 2, 6])\n",
      "('got dealt with', root[2, 4, 6, 5, 4, 3, 2, 1, 1, 3])\n",
      "(root[4, 9, 14, 12, 10, 8, 6, 4, 2, 7], 76, -4, 192)\n"
     ]
    },
    {
     "data": {
      "text/plain": [
       "<__main__.KacMoodyAlgebra instance at 0x220d2afc8>"
      ]
     },
     "execution_count": 256,
     "metadata": {},
     "output_type": "execute_result"
    }
   ],
   "source": [
    "KacMoodyAlgebra(exceptional(10),height=76)"
   ]
  },
  {
   "cell_type": "code",
   "execution_count": 258,
   "metadata": {},
   "outputs": [
    {
     "name": "stdout",
     "output_type": "stream",
     "text": [
      "simple calculation done\n",
      "(root[2, 4, 6, 5, 4, 3, 2, 1, 0, 3], 30, 0, 8)\n",
      "(root[4, 8, 12, 10, 8, 6, 4, 2, 0, 6], 60, 0, 8)\n",
      "(root[4, 8, 12, 10, 8, 6, 4, 2, 1, 6], 61, -2, 44)\n",
      "(root[4, 9, 14, 12, 10, 8, 6, 4, 2, 7], 76, -4, 192)\n",
      "(root[6, 12, 18, 15, 12, 9, 6, 3, 0, 9], 90, 0, 8)\n",
      "(root[6, 12, 18, 15, 12, 9, 6, 3, 1, 9], 91, -4, 192)\n",
      "(root[6, 12, 18, 15, 12, 9, 6, 4, 2, 9], 93, -6, 5805/8)\n"
     ]
    },
    {
     "data": {
      "text/plain": [
       "<__main__.KacMoodyAlgebra instance at 0x22426cf80>"
      ]
     },
     "execution_count": 258,
     "metadata": {},
     "output_type": "execute_result"
    }
   ],
   "source": [
    "KacMoodyAlgebra(exceptional(10),height=100)"
   ]
  },
  {
   "cell_type": "code",
   "execution_count": 199,
   "metadata": {},
   "outputs": [
    {
     "name": "stdout",
     "output_type": "stream",
     "text": [
      "simple calculation done\n",
      "(root[2, 4, 6, 5, 4, 3, 2, 1, 0, 3], 30, 0, 8)\n",
      "(root[4, 8, 12, 10, 8, 6, 4, 2, 0, 6], 60, 0, 5)\n",
      "('wild', root[4, 8, 12, 10, 8, 6, 4, 2, 0, 6])\n",
      "(root[4, 8, 12, 10, 8, 6, 4, 2, 1, 6], 61, -2, 5435/124)\n",
      "('wild', root[4, 8, 12, 10, 8, 6, 6, 4, 2, 6])\n",
      "('wild', root[4, 8, 12, 10, 8, 6, 4, 2, 0, 6])\n",
      "('wild', root[4, 8, 12, 10, 8, 6, 4, 4, 2, 6])\n",
      "('wild', root[4, 8, 12, 10, 8, 8, 6, 4, 2, 6])\n",
      "('wild', root[4, 8, 14, 12, 10, 8, 6, 4, 2, 6])\n",
      "('wild', root[4, 8, 12, 10, 8, 6, 4, 2, 2, 6])\n",
      "('wild', root[4, 8, 12, 10, 8, 6, 4, 4, 2, 6])\n",
      "('wild', root[4, 8, 14, 12, 10, 8, 6, 4, 2, 6])\n",
      "('wild', root[4, 8, 12, 10, 10, 8, 6, 4, 2, 6])\n",
      "('wild', root[4, 8, 12, 10, 8, 8, 6, 4, 2, 6])\n",
      "('wild', root[4, 8, 12, 10, 8, 6, 6, 4, 2, 6])\n",
      "('wild', root[4, 8, 12, 10, 10, 8, 6, 4, 2, 6])\n",
      "('wild', root[4, 8, 12, 10, 8, 6, 4, 2, 2, 6])\n",
      "('wild', root[4, 8, 12, 12, 10, 8, 6, 4, 2, 6])\n",
      "(root[4, 9, 14, 12, 10, 8, 6, 4, 2, 7], 76, -4, 79234/403)\n",
      "('wild', root[4, 8, 12, 10, 8, 6, 4, 2, 0, 6])\n",
      "(root[6, 12, 18, 15, 12, 9, 6, 3, 0, 9], 90, 0, 152/27)\n"
     ]
    },
    {
     "data": {
      "text/plain": [
       "<__main__.KacMoodyAlgebra instance at 0x1fe467dd0>"
      ]
     },
     "execution_count": 199,
     "metadata": {},
     "output_type": "execute_result"
    }
   ],
   "source": [
    "KacMoodyAlgebra(exceptional(10),height=90)"
   ]
  },
  {
   "cell_type": "code",
   "execution_count": 26,
   "metadata": {},
   "outputs": [],
   "source": [
    "#Lookup time comparison\n",
    "def random_tuple_generator(n,h):\n",
    "    \"\"\"\n",
    "    generates random tuples of length n and height h\n",
    "    \"\"\"\n",
    "    return tuple([random.random()*h for i in range(n)])"
   ]
  },
  {
   "cell_type": "code",
   "execution_count": 47,
   "metadata": {},
   "outputs": [
    {
     "name": "stdout",
     "output_type": "stream",
     "text": [
      "ok\n",
      "3\n",
      "ok\n",
      "33/10\n",
      "ok\n",
      "18/5\n",
      "ok\n",
      "39/10\n",
      "ok\n",
      "21/5\n",
      "ok\n",
      "9/2\n",
      "ok\n",
      "24/5\n"
     ]
    }
   ],
   "source": [
    "list_times = []\n",
    "set_times = []\n",
    "\n",
    "for q in range(30,50,3):\n",
    "    p = q/10\n",
    "    big_list = [random_tuple_generator(5,10) for i in range(floor(10**p))]\n",
    "    big_set = set(big_list)\n",
    "    to_sample = [big_list[randint(0,floor(10**p)-1)] for i in range(1000)]\n",
    "    print('ok')\n",
    "    \n",
    "    start = time.time()\n",
    "    for g in to_sample:\n",
    "        if g in big_list:\n",
    "            pass\n",
    "    end = time.time()\n",
    "    list_times.append(end-start)\n",
    "\n",
    "    start = time.time()\n",
    "    for g in to_sample:\n",
    "        if g in big_set:\n",
    "            pass\n",
    "    end = time.time()\n",
    "    set_times.append(end-start)\n",
    "        \n",
    "    print(p)\n"
   ]
  },
  {
   "cell_type": "code",
   "execution_count": 49,
   "metadata": {},
   "outputs": [],
   "source": [
    "import matplotlib.pyplot as plt"
   ]
  },
  {
   "cell_type": "code",
   "execution_count": 54,
   "metadata": {},
   "outputs": [
    {
     "data": {
      "image/png": "[encoded data removed]",
      "text/plain": [
       "<Figure size 432x288 with 1 Axes>"
      ]
     },
     "metadata": {},
     "output_type": "display_data"
    }
   ],
   "source": [
    "plt.title('Look-up Time')\n",
    "plt.scatter(range(len(set_times)),set_times,label='set')\n",
    "plt.scatter(range(len(set_times)),list_times,label='list')\n",
    "plt.xlabel('~log(list size)')\n",
    "plt.legend()\n",
    "plt.ylabel('~time')\n",
    "plt.show()"
   ]
  }
 ],
 "metadata": {
  "kernelspec": {
   "display_name": "SageMath 8.6",
   "language": "",
   "name": "sagemath"
  },
  "language_info": {
   "codemirror_mode": {
    "name": "ipython",
    "version": 2
   },
   "file_extension": ".py",
   "mimetype": "text/x-python",
   "name": "python",
   "nbconvert_exporter": "python",
   "pygments_lexer": "ipython2",
   "version": "2.7.15"
  }
 },
 "nbformat": 4,
 "nbformat_minor": 2
}
